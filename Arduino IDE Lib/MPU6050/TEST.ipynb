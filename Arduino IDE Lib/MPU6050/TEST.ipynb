from numpy import sin,cos,pi,array,eye,dot
from numpy.linalg import multi_dot
def Transz(de,en=1):
  Di = [0. for ka in range(en)]
  for i in range(0,en):
    Di[i] = array([[1,0,0,0],
                   [0,1,0,0],
                   [0,0,1,de[i]],
                   [0,0,0,1]])
  return Di

def Transx(aa,en=1):
  Ai = [0. for ka in range(en)]
  for i in range(0,en):
    Ai[i] = array([[1,0,0,aa[i]],
                   [0,1,0,0],
                   [0,0,1,0],
                   [0,0,0,1]])
  return Ai

def Rotz(te,en=1):
  Ti = [0. for ka in range(en)]
  for i in range(0,en):
    Ti[i] = array([[cos(te[i]),-sin(te[i]),0,0],
                   [sin(te[i]),cos(te[i]),0,0],
                   [0,0,1,0],
                   [0,0,0,1]])
  return Ti

def Rotx(aa,en=1):
  Ai = [0. for ka in range(en)]
  for i in range(0,en):
    Ai[i] = array([[1,0,0,0],
                  [0,cos(aa[i]),-sin(aa[i]),0],
                   [0,sin(aa[i]),cos(aa[i]),0],
                   [0,0,0,1]])
  return Ai

def trans(rotx,rotz,transx,transz,en=1):
  TT = [0. for ka in range(en)]
  for i in range(0,en):
    TT[i] = multi_dot([rotx[i],transx[i],rotz[i],transz[i]])
    print("Trans ke-",i," = ",TT[i])
  return TT

def transtotal(TT,en=1):
  ttotal = eye(4)
  for i in range(0,en):
    ttotal = dot(ttotal,TT[i])
    print("perkalian trans ke-",i," = ",ttotal)
  return ttotal

n = int(input("Tentukan jumlah joint : "))
d = [0.for k in range(n)]
a = [0.for k in range(n)]
t = [0.for k in range(n)]
alp = [0.for k in range(n)]
print("jumlah joint = ",n)
for j in range(0,n):
  a[j] = float(input("Panjang link ke-%i ($a_%i$): " %(j+1,j+1)))
  d[j] = float(input("Panjang d ke-%i : " %(j+1)))
  t[j] = float(input("sudut $\(theta)$ ke-%i : " %(j+1)))
  t[j] = t[j]/180*pi
  alp[j] = float(input("sudut $\(alpha)$ ke-%i : " %(j+1)))
  alp[j] = alp[j]/180*pi
print("Theta 1 = ",t)
tz = Transz(d,n)
tx = Transx(a,n)
rz = Rotz(t,n)
rx = Rotx(alp,n)
Tr = trans(rx,rz,tx,tz,n)  
T = transtotal(Tr,n)
p = [T[0,3],T[1,3],T[2,3]]
print("Trans z = ",tz)
print("Trans x = ",tx)
print("Rot z = ",rz)
print("Rot z = ",rx)
print("Trans Total = ",T)
print("Posisi end effector = ",p)